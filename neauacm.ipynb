{
 "cells": [
  {
   "cell_type": "code",
   "execution_count": 1,
   "metadata": {},
   "outputs": [],
   "source": [
    "import re\n",
    "import time\n",
    "import urllib\n",
    "import requests\n",
    "import numpy as np\n",
    "from bs4 import BeautifulSoup\n",
    "from openpyxl import Workbook"
   ]
  },
  {
   "cell_type": "code",
   "execution_count": 2,
   "metadata": {},
   "outputs": [],
   "source": [
    "#Some User Agents\n",
    "hds=['Mozilla/5.0 (Windows; U; Windows NT 6.1; en-US; rv:1.9.1.6) Gecko/20091201 Firefox/3.5.6',\n",
    "'Mozilla/5.0 (Windows NT 6.2) AppleWebKit/535.11 (KHTML, like Gecko) Chrome/17.0.963.12 Safari/535.11',\n",
    " 'Mozilla/5.0 (compatible; MSIE 10.0; Windows NT 6.2; Trident/6.0)']"
   ]
  },
  {
   "cell_type": "code",
   "execution_count": 3,
   "metadata": {},
   "outputs": [],
   "source": [
    "def getHtml(url):\n",
    "    req = urllib.request.Request(url, headers={'User-Agent': hds[1%len(hds)],'cookie': cookie})\n",
    "    html = urllib.request.urlopen(req).read()\n",
    "    return html\n",
    " \n",
    "def saveHtml(file_name, file_content):\n",
    " # 注意windows文件命名的禁用符，比如 /\n",
    " with open(file_name.replace('/', '_') + \".html\", \"wb\") as f:\n",
    "  # 写文件用bytes而不是str，所以要转码\n",
    "  f.write(file_content)"
   ]
  },
  {
   "cell_type": "code",
   "execution_count": 4,
   "metadata": {},
   "outputs": [],
   "source": [
    "def my_spider(cookie):\n",
    "    page_num=1;\n",
    "    book_list=[]\n",
    "    try_times=0\n",
    "    err = 0\n",
    "\n",
    "    while(1):\n",
    "        url=URL+str(page_num)\n",
    "        time.sleep(np.random.rand()*5)\n",
    "\n",
    "        #Last Version\n",
    "        try:\n",
    "            req = urllib.request.Request(url, headers={'User-Agent': hds[page_num%len(hds)],'cookie': cookie})\n",
    "            source_code = urllib.request.urlopen(req).read()\n",
    "            plain_text=str(source_code, 'utf-8')\n",
    "            print(\"请求成功\")\n",
    "        except:\n",
    "            print(\"请求出错！\")\n",
    "            continue\n",
    "\n",
    "        soup = BeautifulSoup(plain_text)\n",
    "        list_soup = soup.findAll('tr')\n",
    "\n",
    "        print(\"新增了 {} 条数据\".format(len(list_soup)))\n",
    "        try_times+=1;\n",
    "        if list_soup==None and try_times<3:\n",
    "            continue\n",
    "        elif list_soup==None or len(list_soup)<=1:\n",
    "            err+=1\n",
    "            if(err>5):\n",
    "                break # Break when no informatoin got after 200 times requesting\n",
    "\n",
    "\n",
    "        for info in list_soup:\n",
    "            aim = info.find('a', attrs={\"href\" : re.compile(r'^problem')})\n",
    "            label = info.find('a', {'class': 'label'})\n",
    "            if aim !=None and label!=None:\n",
    "                link = BASE_URL + aim.get('href').replace(\"\\\\'\",\"\")\n",
    "                content = str(aim.string)\n",
    "                source = str(label.string)\n",
    "                html = getHtml(link)\n",
    "                saveHtml(source+content, html)\n",
    "                time.sleep(np.random.rand()*3)\n",
    "                book_list.append([link, content, source])\n",
    "                try_times=0 #set 0 when got valid information\n",
    "        page_num+=1\n",
    "        print('Downloading Information From Page %d' % page_num)\n",
    "    return book_list\n"
   ]
  },
  {
   "cell_type": "code",
   "execution_count": null,
   "metadata": {},
   "outputs": [
    {
     "name": "stdout",
     "output_type": "stream",
     "text": [
      "请求成功\n",
      "新增了 64 条数据\n",
      "Downloading Information From Page 2\n",
      "请求成功\n",
      "新增了 103 条数据\n",
      "Downloading Information From Page 3\n",
      "请求成功\n",
      "新增了 103 条数据\n"
     ]
    }
   ],
   "source": [
    "BASE_URL = 'https://oj.neauacm.cn/'\n",
    "URL = 'https://oj.neauacm.cn/problemset.php?page='\n",
    "cookie = 'resolveIDs=0; order_dir_list_by=1A; PHPSESSID=2f9f83jjfrl45dpn1oeodf18s0; lastlang=undefined'\n",
    "book_list = my_spider(cookie)"
   ]
  },
  {
   "cell_type": "code",
   "execution_count": null,
   "metadata": {},
   "outputs": [],
   "source": [
    "book_list"
   ]
  },
  {
   "cell_type": "code",
   "execution_count": null,
   "metadata": {},
   "outputs": [],
   "source": [
    "len(book_list)"
   ]
  },
  {
   "cell_type": "code",
   "execution_count": null,
   "metadata": {},
   "outputs": [],
   "source": [
    "import numpy as np\n",
    "import pandas as pd"
   ]
  },
  {
   "cell_type": "code",
   "execution_count": null,
   "metadata": {},
   "outputs": [],
   "source": [
    "arr = np.array(book_list)"
   ]
  },
  {
   "cell_type": "code",
   "execution_count": null,
   "metadata": {},
   "outputs": [],
   "source": [
    "data = pd.DataFrame({\"link\": arr[:,0], \"name\": arr[:,1]})"
   ]
  },
  {
   "cell_type": "code",
   "execution_count": null,
   "metadata": {},
   "outputs": [],
   "source": [
    "data"
   ]
  },
  {
   "cell_type": "code",
   "execution_count": null,
   "metadata": {},
   "outputs": [],
   "source": [
    "data.to_excel(\"题目.xlsx\")"
   ]
  }
 ],
 "metadata": {
  "kernelspec": {
   "display_name": "Python 3",
   "language": "python",
   "name": "python3"
  },
  "language_info": {
   "codemirror_mode": {
    "name": "ipython",
    "version": 3
   },
   "file_extension": ".py",
   "mimetype": "text/x-python",
   "name": "python",
   "nbconvert_exporter": "python",
   "pygments_lexer": "ipython3",
   "version": "3.8.3"
  }
 },
 "nbformat": 4,
 "nbformat_minor": 4
}
